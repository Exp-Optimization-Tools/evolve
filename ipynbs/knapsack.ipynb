{
 "cells": [
  {
   "cell_type": "code",
   "execution_count": 182,
   "metadata": {
    "collapsed": true
   },
   "outputs": [],
   "source": [
    "import numpy as np"
   ]
  },
  {
   "cell_type": "markdown",
   "metadata": {},
   "source": [
    "# The 0-1 Knapsack Problem (Combinatorial Optimization)\n",
    "\n",
    "Given container of maximum capacity $c$ and a set of items each with:\n",
    "*   a weight $w$\n",
    "*   a value $v$\n",
    "\n",
    "determine the subset of items that fits in the container such that the value of the set is maximized."
   ]
  },
  {
   "cell_type": "markdown",
   "metadata": {},
   "source": [
    "## Formulation\n",
    "\n",
    "maximize $$\\sum_{i=1}^{n}v_i x_i$$\n",
    "\n",
    "such that $$\\sum_{i=1}^{n}w_i x_i \\leq c$$\n",
    "\n",
    "where:\n",
    "\n",
    "*   $v_i$ is the value of item $i$\n",
    "*   $w_i$ is the weight of item $i$\n",
    "*   $x_i \\in \\{0, 1\\}$ is the boolean condition of whether item $i$ is in the bag\n",
    "*   $c$ is the maximum capacity of the container"
   ]
  },
  {
   "cell_type": "markdown",
   "metadata": {},
   "source": [
    "## Binary Encoding\n",
    "\n",
    "Given a mapping of $n$ values $V$, a binary mapping $W$ of $n$ bits can be derived."
   ]
  },
  {
   "cell_type": "code",
   "execution_count": 183,
   "metadata": {
    "collapsed": true
   },
   "outputs": [],
   "source": [
    "# the value mapping represented as a list of values\n",
    "V = np.array([\n",
    "    10,\n",
    "    5,\n",
    "    1\n",
    "])\n",
    "\n",
    "# the binary encoding represented as a list of bits\n",
    "W = np.array([\n",
    "    1,\n",
    "    0,\n",
    "    1\n",
    "])"
   ]
  },
  {
   "cell_type": "markdown",
   "metadata": {},
   "source": [
    "## Evaluation"
   ]
  },
  {
   "cell_type": "code",
   "execution_count": 184,
   "metadata": {},
   "outputs": [
    {
     "data": {
      "text/plain": [
       "11"
      ]
     },
     "execution_count": 184,
     "metadata": {},
     "output_type": "execute_result"
    }
   ],
   "source": [
    "(V*W).sum()"
   ]
  },
  {
   "cell_type": "markdown",
   "metadata": {},
   "source": [
    "## Problem Domain"
   ]
  },
  {
   "cell_type": "code",
   "execution_count": 204,
   "metadata": {},
   "outputs": [
    {
     "data": {
      "text/plain": [
       "array([54, 49,  4, 90, 30, 82, 42, 26, 69, 73,  8, 44,  8, 53, 50,  2, 81,\n",
       "       13, 20, 39, 39, 85, 16,  3, 17, 73, 88,  7, 66, 41, 79, 85, 59, 37,\n",
       "       98, 60,  1, 57, 19, 59, 66, 51, 62, 83, 73, 29, 27, 48, 59, 68,  9,\n",
       "        6, 81, 69, 34, 89, 92, 28, 13, 72, 94, 30, 31, 11, 30, 22, 65, 73,\n",
       "       64, 50, 32, 84, 68, 47, 85, 12, 60, 54, 70, 86, 48, 99, 96, 85, 56,\n",
       "       57, 27, 78, 42, 92,  9, 61, 21, 31, 31, 92,  6, 67, 96, 32])"
      ]
     },
     "execution_count": 204,
     "metadata": {},
     "output_type": "execute_result"
    }
   ],
   "source": [
    "mapping = np.random.randint(low=1, high=100, size=100)\n",
    "mapping"
   ]
  },
  {
   "cell_type": "code",
   "execution_count": 205,
   "metadata": {
    "collapsed": true
   },
   "outputs": [],
   "source": [
    "capacity = np.random.randint(low=1000, high=10000)"
   ]
  },
  {
   "cell_type": "code",
   "execution_count": 206,
   "metadata": {
    "scrolled": true
   },
   "outputs": [
    {
     "data": {
      "text/plain": [
       "6971"
      ]
     },
     "execution_count": 206,
     "metadata": {},
     "output_type": "execute_result"
    }
   ],
   "source": [
    "capacity"
   ]
  },
  {
   "cell_type": "markdown",
   "metadata": {},
   "source": [
    "## OOP"
   ]
  },
  {
   "cell_type": "code",
   "execution_count": 299,
   "metadata": {
    "collapsed": true
   },
   "outputs": [],
   "source": [
    "V = np.array([\n",
    "    10.2,\n",
    "    5,\n",
    "    1\n",
    "])\n",
    "\n",
    "def evaluate_arb(W: np.array):\n",
    "    return np.sum(W * V)"
   ]
  },
  {
   "cell_type": "code",
   "execution_count": 370,
   "metadata": {},
   "outputs": [],
   "source": [
    "from typing import Callable\n",
    "\n",
    "class Chromosome:\n",
    "    pass\n",
    "\n",
    "class BinaryChromosome(Chromosome):\n",
    "    \"\"\"This class represents a binary encoded chromosome.\"\"\"\n",
    "    \n",
    "    # the valid initial state options for how to initialize the chromosome\n",
    "    INITIAL_STATES = ['zeros', 'ones', 'random']\n",
    "    \n",
    "    def __init__(self, size: int=0, initial_state='random', evaluate: Callable=None):\n",
    "        \"\"\"Initialize a new chromosome of a given size.\n",
    "        \n",
    "        Args:\n",
    "            size: the size of the chromosome (default 0) \n",
    "            intial_state: the initial state of the chromosome (default 'random')\n",
    "                * can be 'zeros', 'ones', or 'random'\n",
    "        \"\"\"\n",
    "        # check the validity of the size parameter\n",
    "        if not isinstance(size, (int, float)):\n",
    "            raise ValueError('size should be a numeric value like: int, float')\n",
    "        elif size < 0:\n",
    "            raise ValueError('cannot create chromosome with a negative size')\n",
    "        # check if initializing with zeros\n",
    "        if initial_state == self.INITIAL_STATES[0]:\n",
    "            self.W = np.zeros(size).astype(int)\n",
    "        # check if intializing with ones\n",
    "        elif initial_state == self.INITIAL_STATES[1]:\n",
    "            self.W = np.ones(size).astype(int)\n",
    "        # check if initializing with random values\n",
    "        elif initial_state == self.INITIAL_STATES[2]:\n",
    "            self.W = np.random.randint(low=0, high=2, size=size).astype(int)\n",
    "        # invalid initial state, raise error\n",
    "        else:\n",
    "            raise ValueError('initial_state must be one of: {}'.format(self.INITIAL_STATES))\n",
    "        # validate the evaluation function\n",
    "        if evaluate is None:\n",
    "            print('WARNING: created a chromosome without an evaluation function')\n",
    "        elif not isinstance(evaluate, Callable):\n",
    "            raise ValueError('`evaluate` must be a function')\n",
    "        self.evaluate = evaluate\n",
    "  \n",
    "    def __repr__(self) -> str:\n",
    "        \"\"\"Return a string represtation of this object\"\"\"\n",
    "        return str(self.W)\n",
    "            \n",
    "    @property\n",
    "    def fitness(self) -> float:\n",
    "        # if the evaluation was never instantiated, the score is 0\n",
    "        if self.evaluate is None:\n",
    "            return 0\n",
    "        else:\n",
    "            return self.evaluate(self.W)\n",
    "    "
   ]
  },
  {
   "cell_type": "raw",
   "metadata": {},
   "source": [
    "z = BinaryChromosome(size=4, initial_state='zeros')\n",
    "z.W"
   ]
  },
  {
   "cell_type": "code",
   "execution_count": 344,
   "metadata": {},
   "outputs": [
    {
     "name": "stdout",
     "output_type": "stream",
     "text": [
      "WARNING: created a chromosome without an evaluation function\n"
     ]
    },
    {
     "data": {
      "text/plain": [
       "array([1, 1, 1, 1])"
      ]
     },
     "execution_count": 344,
     "metadata": {},
     "output_type": "execute_result"
    }
   ],
   "source": [
    "o = BinaryChromosome(size=4, initial_state='ones')\n",
    "o.W"
   ]
  },
  {
   "cell_type": "code",
   "execution_count": 345,
   "metadata": {},
   "outputs": [
    {
     "name": "stdout",
     "output_type": "stream",
     "text": [
      "WARNING: created a chromosome without an evaluation function\n"
     ]
    },
    {
     "data": {
      "text/plain": [
       "array([0, 1, 0, 0])"
      ]
     },
     "execution_count": 345,
     "metadata": {},
     "output_type": "execute_result"
    }
   ],
   "source": [
    "r = BinaryChromosome(size=4, initial_state='random')\n",
    "r.W"
   ]
  },
  {
   "cell_type": "code",
   "execution_count": 300,
   "metadata": {
    "collapsed": true
   },
   "outputs": [
    {
     "ename": "ValueError",
     "evalue": "initial_state must be one of: ['zeros', 'ones', 'random']",
     "output_type": "error",
     "traceback": [
      "\u001b[0;31m---------------------------------------------------------------------------\u001b[0m",
      "\u001b[0;31mValueError\u001b[0m                                Traceback (most recent call last)",
      "\u001b[0;32m<ipython-input-300-02ecf562ce8e>\u001b[0m in \u001b[0;36m<module>\u001b[0;34m()\u001b[0m\n\u001b[0;32m----> 1\u001b[0;31m \u001b[0mBinaryChromosome\u001b[0m\u001b[0;34m(\u001b[0m\u001b[0minitial_state\u001b[0m\u001b[0;34m=\u001b[0m\u001b[0;32mNone\u001b[0m\u001b[0;34m)\u001b[0m\u001b[0;34m\u001b[0m\u001b[0m\n\u001b[0m",
      "\u001b[0;32m<ipython-input-292-99ea51a11c84>\u001b[0m in \u001b[0;36m__init__\u001b[0;34m(self, size, initial_state, evaluate)\u001b[0m\n\u001b[1;32m     31\u001b[0m         \u001b[0;31m# invalid initial state, raise error\u001b[0m\u001b[0;34m\u001b[0m\u001b[0;34m\u001b[0m\u001b[0m\n\u001b[1;32m     32\u001b[0m         \u001b[0;32melse\u001b[0m\u001b[0;34m:\u001b[0m\u001b[0;34m\u001b[0m\u001b[0m\n\u001b[0;32m---> 33\u001b[0;31m             \u001b[0;32mraise\u001b[0m \u001b[0mValueError\u001b[0m\u001b[0;34m(\u001b[0m\u001b[0;34m'initial_state must be one of: {}'\u001b[0m\u001b[0;34m.\u001b[0m\u001b[0mformat\u001b[0m\u001b[0;34m(\u001b[0m\u001b[0mself\u001b[0m\u001b[0;34m.\u001b[0m\u001b[0mINITIAL_STATES\u001b[0m\u001b[0;34m)\u001b[0m\u001b[0;34m)\u001b[0m\u001b[0;34m\u001b[0m\u001b[0m\n\u001b[0m\u001b[1;32m     34\u001b[0m         \u001b[0;31m# validate the evaluation function\u001b[0m\u001b[0;34m\u001b[0m\u001b[0;34m\u001b[0m\u001b[0m\n\u001b[1;32m     35\u001b[0m         \u001b[0;32mif\u001b[0m \u001b[0mevaluate\u001b[0m \u001b[0;32mis\u001b[0m \u001b[0;32mNone\u001b[0m\u001b[0;34m:\u001b[0m\u001b[0;34m\u001b[0m\u001b[0m\n",
      "\u001b[0;31mValueError\u001b[0m: initial_state must be one of: ['zeros', 'ones', 'random']"
     ]
    }
   ],
   "source": [
    "BinaryChromosome(initial_state=None)"
   ]
  },
  {
   "cell_type": "code",
   "execution_count": 283,
   "metadata": {
    "collapsed": true
   },
   "outputs": [
    {
     "ename": "ValueError",
     "evalue": "size should be a numeric value like: int, float",
     "output_type": "error",
     "traceback": [
      "\u001b[0;31m---------------------------------------------------------------------------\u001b[0m",
      "\u001b[0;31mValueError\u001b[0m                                Traceback (most recent call last)",
      "\u001b[0;32m<ipython-input-283-dfdb71149a30>\u001b[0m in \u001b[0;36m<module>\u001b[0;34m()\u001b[0m\n\u001b[0;32m----> 1\u001b[0;31m \u001b[0mBinaryChromosome\u001b[0m\u001b[0;34m(\u001b[0m\u001b[0msize\u001b[0m\u001b[0;34m=\u001b[0m\u001b[0;34m'asdf'\u001b[0m\u001b[0;34m)\u001b[0m\u001b[0;34m\u001b[0m\u001b[0m\n\u001b[0m",
      "\u001b[0;32m<ipython-input-278-0d4574de9945>\u001b[0m in \u001b[0;36m__init__\u001b[0;34m(self, size, initial_state, evaluation)\u001b[0m\n\u001b[1;32m     17\u001b[0m         \u001b[0;31m# check the validity of the size parameter\u001b[0m\u001b[0;34m\u001b[0m\u001b[0;34m\u001b[0m\u001b[0m\n\u001b[1;32m     18\u001b[0m         \u001b[0;32mif\u001b[0m \u001b[0;32mnot\u001b[0m \u001b[0misinstance\u001b[0m\u001b[0;34m(\u001b[0m\u001b[0msize\u001b[0m\u001b[0;34m,\u001b[0m \u001b[0;34m(\u001b[0m\u001b[0mint\u001b[0m\u001b[0;34m,\u001b[0m \u001b[0mfloat\u001b[0m\u001b[0;34m)\u001b[0m\u001b[0;34m)\u001b[0m\u001b[0;34m:\u001b[0m\u001b[0;34m\u001b[0m\u001b[0m\n\u001b[0;32m---> 19\u001b[0;31m             \u001b[0;32mraise\u001b[0m \u001b[0mValueError\u001b[0m\u001b[0;34m(\u001b[0m\u001b[0;34m'size should be a numeric value like: int, float'\u001b[0m\u001b[0;34m)\u001b[0m\u001b[0;34m\u001b[0m\u001b[0m\n\u001b[0m\u001b[1;32m     20\u001b[0m         \u001b[0;32melif\u001b[0m \u001b[0msize\u001b[0m \u001b[0;34m<\u001b[0m \u001b[0;36m0\u001b[0m\u001b[0;34m:\u001b[0m\u001b[0;34m\u001b[0m\u001b[0m\n\u001b[1;32m     21\u001b[0m             \u001b[0;32mraise\u001b[0m \u001b[0mValueError\u001b[0m\u001b[0;34m(\u001b[0m\u001b[0;34m'cannot create chromosome with a negative size'\u001b[0m\u001b[0;34m)\u001b[0m\u001b[0;34m\u001b[0m\u001b[0m\n",
      "\u001b[0;31mValueError\u001b[0m: size should be a numeric value like: int, float"
     ]
    }
   ],
   "source": [
    "BinaryChromosome(size='asdf')"
   ]
  },
  {
   "cell_type": "code",
   "execution_count": 284,
   "metadata": {
    "collapsed": true
   },
   "outputs": [
    {
     "ename": "ValueError",
     "evalue": "cannot create chromosome with a negative size",
     "output_type": "error",
     "traceback": [
      "\u001b[0;31m---------------------------------------------------------------------------\u001b[0m",
      "\u001b[0;31mValueError\u001b[0m                                Traceback (most recent call last)",
      "\u001b[0;32m<ipython-input-284-23b57b811e26>\u001b[0m in \u001b[0;36m<module>\u001b[0;34m()\u001b[0m\n\u001b[0;32m----> 1\u001b[0;31m \u001b[0mBinaryChromosome\u001b[0m\u001b[0;34m(\u001b[0m\u001b[0msize\u001b[0m\u001b[0;34m=\u001b[0m\u001b[0;34m-\u001b[0m\u001b[0;36m1\u001b[0m\u001b[0;34m)\u001b[0m\u001b[0;34m\u001b[0m\u001b[0m\n\u001b[0m",
      "\u001b[0;32m<ipython-input-278-0d4574de9945>\u001b[0m in \u001b[0;36m__init__\u001b[0;34m(self, size, initial_state, evaluation)\u001b[0m\n\u001b[1;32m     19\u001b[0m             \u001b[0;32mraise\u001b[0m \u001b[0mValueError\u001b[0m\u001b[0;34m(\u001b[0m\u001b[0;34m'size should be a numeric value like: int, float'\u001b[0m\u001b[0;34m)\u001b[0m\u001b[0;34m\u001b[0m\u001b[0m\n\u001b[1;32m     20\u001b[0m         \u001b[0;32melif\u001b[0m \u001b[0msize\u001b[0m \u001b[0;34m<\u001b[0m \u001b[0;36m0\u001b[0m\u001b[0;34m:\u001b[0m\u001b[0;34m\u001b[0m\u001b[0m\n\u001b[0;32m---> 21\u001b[0;31m             \u001b[0;32mraise\u001b[0m \u001b[0mValueError\u001b[0m\u001b[0;34m(\u001b[0m\u001b[0;34m'cannot create chromosome with a negative size'\u001b[0m\u001b[0;34m)\u001b[0m\u001b[0;34m\u001b[0m\u001b[0m\n\u001b[0m\u001b[1;32m     22\u001b[0m         \u001b[0;31m# check if initializing with zeros\u001b[0m\u001b[0;34m\u001b[0m\u001b[0;34m\u001b[0m\u001b[0m\n\u001b[1;32m     23\u001b[0m         \u001b[0;32mif\u001b[0m \u001b[0minitial_state\u001b[0m \u001b[0;34m==\u001b[0m \u001b[0mself\u001b[0m\u001b[0;34m.\u001b[0m\u001b[0mINITIAL_STATES\u001b[0m\u001b[0;34m[\u001b[0m\u001b[0;36m0\u001b[0m\u001b[0;34m]\u001b[0m\u001b[0;34m:\u001b[0m\u001b[0;34m\u001b[0m\u001b[0m\n",
      "\u001b[0;31mValueError\u001b[0m: cannot create chromosome with a negative size"
     ]
    }
   ],
   "source": [
    "BinaryChromosome(size=-1)"
   ]
  },
  {
   "cell_type": "code",
   "execution_count": 346,
   "metadata": {
    "scrolled": true
   },
   "outputs": [
    {
     "name": "stdout",
     "output_type": "stream",
     "text": [
      "WARNING: created a chromosome without an evaluation function\n"
     ]
    },
    {
     "data": {
      "text/plain": [
       "[1 1 0]"
      ]
     },
     "execution_count": 346,
     "metadata": {},
     "output_type": "execute_result"
    }
   ],
   "source": [
    "BinaryChromosome(3)"
   ]
  },
  {
   "cell_type": "code",
   "execution_count": 349,
   "metadata": {
    "scrolled": false
   },
   "outputs": [
    {
     "name": "stdout",
     "output_type": "stream",
     "text": [
      "[1 1 0]\n",
      "15.2\n"
     ]
    }
   ],
   "source": [
    "c = BinaryChromosome(size=3, evaluate=evaluate_arb)\n",
    "print(c)\n",
    "print(c.fitness)"
   ]
  },
  {
   "cell_type": "code",
   "execution_count": 364,
   "metadata": {},
   "outputs": [],
   "source": [
    "class ChromosomeFactory:\n",
    "    \"\"\"A class for generating new chromosomes.\"\"\"\n",
    "    \n",
    "    def __init__(self,\n",
    "                 chromosome_class: Chromosome, \n",
    "                 chromosome_size: int,\n",
    "                 initial_state: str='random',\n",
    "                 evaluate: Callable = None):\n",
    "        \"\"\"\n",
    "        Initialize a new chromosome factory.\n",
    "        \n",
    "        Args:\n",
    "            chromosome_class: the class of the chromosomes to create\n",
    "            chromosome_size: the size of the chromsome\n",
    "            initial_state: the initial state of the chromosome (default 'random')\n",
    "            evaluate: the evaluation function for the chromosome (default None)\n",
    "        \"\"\"\n",
    "        if not issubclass(chromosome_class, Chromosome):\n",
    "            raise ValueError('chromosome_class must be a subclass of Chromosome')\n",
    "        self.chromosome_class = chromosome_class\n",
    "        if not isinstance(chromosome_size, (float, int)):\n",
    "            raise ValueError('chromosome_size must be a numeric like: float, int')\n",
    "        self.chromosome_size = chromosome_size\n",
    "        if not isinstance(initial_state, str):\n",
    "            raise ValueError('initial_state must be a string')\n",
    "        self.initial_state = initial_state\n",
    "        if not isinstance(evaluate, Callable):\n",
    "            raise ValueError('evaluate must be a callable method')\n",
    "        self.evaluate = evaluate\n",
    "        \n",
    "    @property\n",
    "    def next_individual(self):\n",
    "        \"\"\"Create and return a new individual.\"\"\"\n",
    "        return self.chromosome_class(size=self.chromosome_size, \n",
    "                                     initial_state=self.initial_state, \n",
    "                                     evaluate=self.evaluate)\n",
    "    \n",
    "    def population(self, size: int):\n",
    "        \"\"\"Return a population of new chromosomes a given size.\n",
    "        \n",
    "        Args:\n",
    "            size: the number of individuals to generate\n",
    "        \"\"\"\n",
    "        if not isinstance(size, (int, float)) or size < 0:\n",
    "            raise ValueError('size must be a positive number')\n",
    "        return [self.next_individual for i in range(0, size)]"
   ]
  },
  {
   "cell_type": "code",
   "execution_count": 365,
   "metadata": {
    "scrolled": true
   },
   "outputs": [
    {
     "data": {
      "text/plain": [
       "[0 0 0]"
      ]
     },
     "execution_count": 365,
     "metadata": {},
     "output_type": "execute_result"
    }
   ],
   "source": [
    "arb_factory = ChromosomeFactory(BinaryChromosome, 3, 'zeros', evaluate_arb)\n",
    "arb_factory.next_individual"
   ]
  },
  {
   "cell_type": "code",
   "execution_count": 368,
   "metadata": {},
   "outputs": [],
   "source": [
    "class Population:\n",
    "    \"\"\"A class for generating, selecting from, and updating a population.\"\"\"\n",
    "    \n",
    "    def __init__(self, size: int, factory: ChromosomeFactory):\n",
    "        \"\"\"\n",
    "        Create a new population.\n",
    "        \n",
    "        Args:\n",
    "            size: the size of the population\n",
    "            factory: the ChromosomeFactory to use for generating individuals\n",
    "        \"\"\"\n",
    "        # set the internal list of individuals from the factory\n",
    "        self.individuals = factory.population(size)\n",
    "    "
   ]
  },
  {
   "cell_type": "code",
   "execution_count": 372,
   "metadata": {},
   "outputs": [
    {
     "data": {
      "text/plain": [
       "[[0 1 0],\n",
       " [0 0 0],\n",
       " [0 0 0],\n",
       " [1 0 0],\n",
       " [1 1 0],\n",
       " [1 1 1],\n",
       " [1 0 1],\n",
       " [0 1 1],\n",
       " [1 1 0],\n",
       " [1 0 1]]"
      ]
     },
     "execution_count": 372,
     "metadata": {},
     "output_type": "execute_result"
    }
   ],
   "source": [
    "factory = ChromosomeFactory(BinaryChromosome, 3, 'random', evaluate_arb)\n",
    "pop = Population(10, factory)\n",
    "pop.individuals"
   ]
  },
  {
   "cell_type": "code",
   "execution_count": null,
   "metadata": {
    "collapsed": true
   },
   "outputs": [],
   "source": []
  },
  {
   "cell_type": "code",
   "execution_count": null,
   "metadata": {
    "collapsed": true
   },
   "outputs": [],
   "source": []
  },
  {
   "cell_type": "code",
   "execution_count": null,
   "metadata": {
    "collapsed": true
   },
   "outputs": [],
   "source": []
  },
  {
   "cell_type": "code",
   "execution_count": null,
   "metadata": {
    "collapsed": true
   },
   "outputs": [],
   "source": []
  },
  {
   "cell_type": "code",
   "execution_count": null,
   "metadata": {
    "collapsed": true
   },
   "outputs": [],
   "source": []
  },
  {
   "cell_type": "code",
   "execution_count": null,
   "metadata": {
    "collapsed": true
   },
   "outputs": [],
   "source": []
  },
  {
   "cell_type": "code",
   "execution_count": null,
   "metadata": {
    "collapsed": true
   },
   "outputs": [],
   "source": []
  },
  {
   "cell_type": "code",
   "execution_count": null,
   "metadata": {
    "collapsed": true
   },
   "outputs": [],
   "source": []
  },
  {
   "cell_type": "code",
   "execution_count": null,
   "metadata": {
    "collapsed": true
   },
   "outputs": [],
   "source": []
  },
  {
   "cell_type": "code",
   "execution_count": null,
   "metadata": {
    "collapsed": true
   },
   "outputs": [],
   "source": []
  },
  {
   "cell_type": "code",
   "execution_count": null,
   "metadata": {
    "collapsed": true
   },
   "outputs": [],
   "source": []
  },
  {
   "cell_type": "code",
   "execution_count": null,
   "metadata": {
    "collapsed": true
   },
   "outputs": [],
   "source": []
  },
  {
   "cell_type": "code",
   "execution_count": null,
   "metadata": {
    "collapsed": true
   },
   "outputs": [],
   "source": []
  },
  {
   "cell_type": "code",
   "execution_count": null,
   "metadata": {
    "collapsed": true
   },
   "outputs": [],
   "source": []
  }
 ],
 "metadata": {
  "kernelspec": {
   "display_name": "Python 3",
   "language": "python",
   "name": "python3"
  },
  "language_info": {
   "codemirror_mode": {
    "name": "ipython",
    "version": 3
   },
   "file_extension": ".py",
   "mimetype": "text/x-python",
   "name": "python",
   "nbconvert_exporter": "python",
   "pygments_lexer": "ipython3",
   "version": "3.6.1"
  }
 },
 "nbformat": 4,
 "nbformat_minor": 2
}
