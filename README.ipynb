{
 "cells": [
  {
   "cell_type": "markdown",
   "metadata": {},
   "source": [
    "# evolutionary\n",
    "\n",
    "<!-- Badges -->\n",
    "\n",
    "[![build-status][]][ci-server]\n",
    "\n",
    "[build-status]: https://travis-ci.org/Kautenja/evolutionary.svg?branch=master\n",
    "[ci-server]: https://travis-ci.org/Kautenja/evolutionary"
   ]
  },
  {
   "cell_type": "markdown",
   "metadata": {},
   "source": [
    "<!-- Tagline description -->\n",
    "\n",
    "Generalized forms of evolutionary algorithms using numpy."
   ]
  },
  {
   "cell_type": "markdown",
   "metadata": {},
   "source": [
    "# Usage\n",
    "\n",
    "## Installing dependencies\n",
    "\n",
    "[Makefile][] contains shortcuts for frequently used project commands.\n",
    "\n",
    "Note: make sure you have [Make](https://www.gnu.org/software/make/) installed.\n",
    "\n",
    "To install dependency Python modules in the [requirements.txt][] file:\n",
    "\n",
    "```shel\n",
    "make install\n",
    "```\n",
    "\n",
    "## Running tests\n",
    "\n",
    "To run the test modules inside the [src][] package:\n",
    "\n",
    "```shell\n",
    "make test\n",
    "```\n",
    "\n",
    "## Starting the application\n",
    "\n",
    "To execute the code in the [__main__.py][] script:\n",
    "\n",
    "```shell\n",
    "make start\n",
    "```\n",
    "\n",
    "\n",
    "\n",
    "[Makefile]: ./Makefile\n",
    "[requirements.txt]: ./requirements.txt\n",
    "[src]: ./src\n",
    "[__main__.py]: ./__main__.py"
   ]
  },
  {
   "cell_type": "markdown",
   "metadata": {},
   "source": [
    " "
   ]
  }
 ],
 "metadata": {
  "kernelspec": {
   "display_name": "Python 3",
   "language": "python",
   "name": "python3"
  },
  "language_info": {
   "codemirror_mode": {
    "name": "ipython",
    "version": 3
   },
   "file_extension": ".py",
   "mimetype": "text/x-python",
   "name": "python",
   "nbconvert_exporter": "python",
   "pygments_lexer": "ipython3",
   "version": "3.6.1"
  }
 },
 "nbformat": 4,
 "nbformat_minor": 2
}
